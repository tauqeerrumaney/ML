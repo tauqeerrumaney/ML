{
 "cells": [
  {
   "cell_type": "markdown",
   "metadata": {
    "id": "ExZu7Yy0r8b4"
   },
   "source": [
    "# Decision Trees\n",
    "\n",
    "In this lab you will learn the most important aspects of the decision tree learning method. \n",
    "Completing this lab and analyzing the code will give you a deeper understanding of these type of models.\n",
    "In our experiments we will mostly use the package sklearn from which we import DecisionTreeClassifier.\n",
    "\n",
    "## Problem Setting\n",
    "\n",
    "First of all, we calculate by hand the impurity measure of splitting some data by some criteria $q$ which in our case is given by a threshold t. Remember, that information gain is calculated as follows: \n",
    "$$IG(q) = S_{0} - \\sum_{i=1}^{k}\\frac{N_{i}(q)}{N}S_{i}(q)$$\n",
    "where $k$ is the number of groups after partition; $N$ is the total number of examples; $N_{i}(q)$ is the number of examples in the group $i$ and $S$ is the (Shannon) entropy function defined as:\n",
    "$$S = - \\sum_{i}^{}\\hat{p}_{i}\\log(\\hat{p}_{i}),$$\n",
    "where $\\hat{p}_{i}$ is the empirical frequency that the randomly chosen object has label $i$."
   ]
  },
  {
   "cell_type": "code",
   "execution_count": null,
   "metadata": {
    "id": "VGqKx3iFr8b6"
   },
   "outputs": [],
   "source": [
    "import numpy as np\n",
    "import pandas as pd\n",
    "import seaborn as sns\n",
    "from matplotlib import pyplot as plt\n",
    "\n",
    "%matplotlib inline"
   ]
  },
  {
   "cell_type": "markdown",
   "metadata": {
    "id": "FFtm8wZgr8b7"
   },
   "source": [
    "## Entropy\n",
    "<b>Exercise 1:</b>\n",
    "\n",
    "Write a function that calculates the entropy defined as: $$S = - \\sum_{i}^{}\\hat{p}_{i}\\log(\\hat{p}_{i}).$$ <b>Hint:</b> The function input is a vector of labels and the function should return the entropy. (Use the logarithm with base 2. In principle, any base for the logarithm can be used. Changing the base will just change the unit of information. Computer scientists like to use the base 2. In this case information is measured in bits.)"
   ]
  },
  {
   "cell_type": "code",
   "execution_count": null,
   "metadata": {
    "id": "EqkvzsZRr8b7"
   },
   "outputs": [],
   "source": [
    "def entropy(y):\n",
    "    ### WRITE YOUR CODE HERE ###\n",
    "    pass"
   ]
  },
  {
   "cell_type": "markdown",
   "metadata": {
    "id": "vrgO1GqQr8b9"
   },
   "source": [
    "Check if your solution is correct:"
   ]
  },
  {
   "cell_type": "code",
   "execution_count": null,
   "metadata": {
    "id": "mWeK3pkrr8b9"
   },
   "outputs": [],
   "source": [
    "try:\n",
    "    assert entropy(np.array([1,1,0,0])) == 1.\n",
    "    assert entropy(np.array([0,0])) == 0.\n",
    "    assert str(entropy(np.array([1,1,0,0,1,1])))[:8] == \"0.918295\"\n",
    "    print(\"Testing successful.\")\n",
    "except:\n",
    "    print(\"Tests failed.\")"
   ]
  },
  {
   "cell_type": "markdown",
   "metadata": {
    "id": "qIY1ypMkr8b-"
   },
   "source": [
    "## Information Gain\n",
    "\n",
    "<b> Exercise 2:</b>\n",
    "Write a function that calculates the information gain obtained by setting the threshold $t\\in \\mathbb{R}$ for data points $x \\in \\mathbb{R}^{d}$ with label $y\\in \\mathbb{N}^{d}$. <b>Hint:</b> The function input is a vector x of attribut values, a vector y of labels and a threshold. The function should return the information gain for that specific split.\n",
    "\n",
    "<b>Example</b>: A split at threshold $t=2$ for data points $x = [2,4,3,1,5]$ and label $y=[1,0,0,0,0]$ would result in the lists \n",
    "* $x_{right} = [4,3,5]$, $y_{right} = [0,0,0]$ (for $x > t$) and\n",
    "* $x_{left} = [2,1]$, $y_{left} = [1,0]$ (for $x <= t$).\n",
    "* Computation of information gain: $\\textbf{entropy}([1,0,0,0,0]) - ((0.4 * \\textbf{entropy}([1,0]))+(0.6 * \\textbf{entropy}([0,0,0])))$"
   ]
  },
  {
   "cell_type": "code",
   "execution_count": null,
   "metadata": {
    "id": "Za_MVzVrr8b-"
   },
   "outputs": [],
   "source": [
    "def info_gain(x,y,t):\n",
    "    ### WRITE YOUR CODE HERE ###\n",
    "    pass"
   ]
  },
  {
   "cell_type": "markdown",
   "metadata": {
    "id": "lJ-CFkkyr8b-"
   },
   "source": [
    "Check if your solution is correct:"
   ]
  },
  {
   "cell_type": "code",
   "execution_count": null,
   "metadata": {
    "id": "V3rvnvO2r8b_"
   },
   "outputs": [],
   "source": [
    "try:\n",
    "    assert str(info_gain(np.array([5,2,3,44,5,6,7,8,9,10]),np.array([1,1,1,1,1,0,0,0,0,0]),5))[:8] == \"0.609986\"\n",
    "    assert str(info_gain(np.array([1,2,3,4,5,6,7,8,9,10]),np.array([1,1,1,1,1,0,0,0,0,0]),1))[:8] == \"0.108031\"\n",
    "    assert str(info_gain(np.array([1,2,3,4,5,6,7,8,9,10]),np.array([1,1,1,1,1,0,0,0,0,0]),3))[:8] == \"0.395815\"\n",
    "    assert str(info_gain(np.array([1,2,3,4,5,6,7,8,9,10]),np.array([1,1,1,1,1,0,0,0,0,0]),5))[:8] == \"1.0\"\n",
    "    assert str(info_gain(np.array([1,2,3,4,5,6,7,8,9,10]),np.array([1,1,1,1,1,0,0,0,0,0]),6))[:8] == \"0.609986\"\n",
    "    print(\"Testing successful.\")\n",
    "except:\n",
    "    print(\"Tests failed.\")"
   ]
  },
  {
   "cell_type": "markdown",
   "metadata": {
    "id": "KWRhzGvtr8b_"
   },
   "source": [
    "<b> Exercise 3:</b>\n",
    "\n",
    "* Create a 2-dimensional data set with the help of the function make_blobs from package sklearn.datasets (the two returned variables should be named 'X' and 'label'). The data set should contain 500 data points with 2 clusters (2 classes). The cluster centers should be located at (0,0) and (3,3).\n",
    "* Visualize the data set. It should look like this:\n",
    "<img src=\"./figures/dataset.png\" width=\"600\"/>"
   ]
  },
  {
   "cell_type": "code",
   "execution_count": null,
   "metadata": {
    "id": "mqmWRQ9Er8b_"
   },
   "outputs": [],
   "source": [
    "from sklearn.datasets import make_blobs\n",
    "### WRITE YOUR CODE HERE ###\n",
    "X, label = None, None # You need to modify this line"
   ]
  },
  {
   "cell_type": "markdown",
   "metadata": {
    "id": "GREPkjrcr8cA"
   },
   "source": [
    "<b>Exercise 4:</b>\n",
    "\n",
    "Write a function 'find_best_split(x,y)' that gets two input vectors $x \\in \\mathbb{R}^d$ and $y \\in \\{0,1\\}^d$. This function should return the threshold $t \\in x$ with the best split. <b>Hint:</b> Use the function 'info_gain' from exercise 2."
   ]
  },
  {
   "cell_type": "code",
   "execution_count": null,
   "metadata": {
    "id": "eDUSSbnAr8cA"
   },
   "outputs": [],
   "source": [
    "def find_best_split(x,y):\n",
    "    ### WRITE YOUR CODE HERE ###\n",
    "    pass"
   ]
  },
  {
   "cell_type": "markdown",
   "metadata": {
    "id": "brkY-2b1r8cA"
   },
   "source": [
    "Check if your solution is correct:"
   ]
  },
  {
   "cell_type": "code",
   "execution_count": null,
   "metadata": {
    "id": "XtEefdMdr8cB"
   },
   "outputs": [],
   "source": [
    "try:\n",
    "    assert find_best_split(np.array([1,2,3,4,5,6,7,8,9,10]),np.array([1,1,1,1,1,0,0,0,0,0])) == 5\n",
    "    assert find_best_split(np.array([1,2,2,4,5,6,7,8,9,10]),np.array([1,1,0,0,1,0,0,1,0,0])) == 8    \n",
    "    print(\"Testing successful.\")\n",
    "except:\n",
    "    print(\"Tests failed.\")"
   ]
  },
  {
   "cell_type": "markdown",
   "metadata": {
    "id": "0TAKQeQ7r8cC"
   },
   "source": [
    "<b>Exercise 5:</b>\n",
    "\n",
    "* Find the best splitting for the two dimensions of the data set created in exercise 3. Plot the boundaries in a figure. Your figure should look like this:\n",
    "\n",
    "<img src=\"./figures/split.png\" width=\"600\"/>\n",
    "\n",
    "* Which split would you prefer, and why?"
   ]
  },
  {
   "cell_type": "code",
   "execution_count": null,
   "metadata": {
    "id": "0N0OR2lHr8cD"
   },
   "outputs": [],
   "source": [
    "x_best = find_best_split(X[:,0],label)\n",
    "y_best = find_best_split(X[:,1],label)\n",
    "### WRITE YOUR CODE HERE ###\n"
   ]
  },
  {
   "cell_type": "markdown",
   "metadata": {
    "id": "m4JszCTUr8cD"
   },
   "source": [
    "## Train a Decision Tree\n",
    "Now we train a decision tree using the sklearn package:"
   ]
  },
  {
   "cell_type": "code",
   "execution_count": null,
   "metadata": {
    "id": "0EDFCibKr8cD"
   },
   "outputs": [],
   "source": [
    "from sklearn.tree import DecisionTreeClassifier\n",
    "\n",
    "clf_tree = DecisionTreeClassifier(criterion='entropy', max_depth=1)\n",
    "clf_tree.fit(X, label)"
   ]
  },
  {
   "cell_type": "markdown",
   "metadata": {
    "id": "4pOhOoo1r8cD"
   },
   "source": [
    "<b>Exercise 6:</b>\n",
    "* Calculate the predictions for all instances from the training set (use the function predict). Which instances are misclassified? Create a plot that shows which instances are correctly classified and which instances are misclassified. This figure should look like this:\n",
    "\n",
    "<img src=\"./figures/dec.png\" width=\"600\"/>\n",
    "\n",
    "* Can you find learning parameters for the decision tree classifier (max_depth,min_samples_leaf,max_leaf_nodes,...) to get a classifier that classifies all instances correctly?"
   ]
  },
  {
   "cell_type": "code",
   "execution_count": null,
   "metadata": {
    "id": "7xJJyNClr8cD"
   },
   "outputs": [],
   "source": [
    "### WRITE YOUR CODE HERE ###\n"
   ]
  }
 ],
 "metadata": {
  "colab": {
   "name": "Lab04_DecisionTrees.ipynb",
   "provenance": []
  },
  "kernelspec": {
   "display_name": "Python 3 (ipykernel)",
   "language": "python",
   "name": "python3"
  },
  "language_info": {
   "codemirror_mode": {
    "name": "ipython",
    "version": 3
   },
   "file_extension": ".py",
   "mimetype": "text/x-python",
   "name": "python",
   "nbconvert_exporter": "python",
   "pygments_lexer": "ipython3",
   "version": "3.9.7"
  }
 },
 "nbformat": 4,
 "nbformat_minor": 1
}
