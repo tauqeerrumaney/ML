{
 "cells": [
  {
   "cell_type": "markdown",
   "metadata": {
    "id": "0WhpMgiS1o5A"
   },
   "source": [
    "# Data Preprocessing\n",
    "\n",
    "The goal of this lab is to introduce you to data preprocessing techniques in order to make your data suitable for applying a learning algorithm.\n",
    "\n",
    "## 1. Handling Missing Values\n",
    "\n",
    "A common (and very unfortunate) data property is the ocurrence of missing and erroneous values in multiple features in datasets. For this exercise we will be using a data set about abalone snails.\n",
    "The data set is contained in the Zip file you downloaded from Moodle (abalone.csv).\n",
    "\n",
    "To determine the age of a abalone snail you have to kill the snail and count the annual\n",
    "rings. You are told to estimate the age of a snail on the basis of the following attributes:\n",
    "1. type: male (0), female (1) and infant (2)\n",
    "2. length in mm\n",
    "3. width in mm\n",
    "4. height in mm\n",
    "5. total weight in grams\n",
    "6. weight of the meat in grams\n",
    "7. drained weight in grams\n",
    "8. weight of the shell in grams\n",
    "9. number of annual rings (number of rings +1, 5 yields age)\n",
    "\n",
    "However, the data is incomplete. Missing values are marked with −1."
   ]
  },
  {
   "cell_type": "code",
   "execution_count": 13,
   "metadata": {
    "colab": {
     "base_uri": "https://localhost:8080/",
     "height": 206
    },
    "id": "aTRoZnye1o5D",
    "outputId": "3b2669b0-1ea1-46d6-b768-638722442986",
    "scrolled": true
   },
   "outputs": [],
   "source": [
    "import pandas as pd\n",
    "# load data \n",
    "df = pd.read_csv(\"http://www.cs.uni-potsdam.de/ml/teaching/ss15/ida/uebung02/abalone.csv\") #Should this not work please use the csv that was part of the zip file.\n",
    "df.columns=['type','length','width','height','total_weight','meat_weight','drained_weight','shell_weight','num_rings']\n",
    "# replace -1 with NaN\n",
    "df.replace(-1, np.nan, inplace=True)\n"
   ]
  },
  {
   "cell_type": "markdown",
   "metadata": {
    "id": "Q_KMa47j1o5E"
   },
   "source": [
    "### Exercise 1.1\n",
    "\n",
    "Compute the mean of of each numeric column and the counts of each categorical column, excluding the missing values."
   ]
  },
  {
   "cell_type": "code",
   "execution_count": 15,
   "metadata": {
    "id": "-dCq2-NW1o5F"
   },
   "outputs": [
    {
     "name": "stdout",
     "output_type": "stream",
     "text": [
      "type              0.953534\n",
      "length            0.523692\n",
      "width             0.407955\n",
      "height            0.139610\n",
      "total_weight      0.828843\n",
      "meat_weight       0.359263\n",
      "drained_weight    0.180249\n",
      "shell_weight      0.238604\n",
      "num_rings         9.921756\n",
      "dtype: float64 type              4089\n",
      "length            4052\n",
      "width             4052\n",
      "height            4052\n",
      "total_weight      4070\n",
      "meat_weight       4051\n",
      "drained_weight    4067\n",
      "shell_weight      4074\n",
      "num_rings         4077\n",
      "dtype: int64\n"
     ]
    }
   ],
   "source": [
    "a=df.mean()\n",
    "b=df.count()\n",
    "print(a,b)"
   ]
  },
  {
   "cell_type": "markdown",
   "metadata": {
    "id": "3I0CjV2c1o5G"
   },
   "source": [
    "### Exercise 1.2\n",
    "\n",
    "Compute the median of each numeric column,  excluding the missing values."
   ]
  },
  {
   "cell_type": "code",
   "execution_count": 16,
   "metadata": {
    "id": "sw_28SAt1o5G"
   },
   "outputs": [
    {
     "data": {
      "text/plain": [
       "type              1.00000\n",
       "length            0.54500\n",
       "width             0.42500\n",
       "height            0.14000\n",
       "total_weight      0.80175\n",
       "meat_weight       0.33600\n",
       "drained_weight    0.17050\n",
       "shell_weight      0.23350\n",
       "num_rings         9.00000\n",
       "dtype: float64"
      ]
     },
     "execution_count": 16,
     "metadata": {},
     "output_type": "execute_result"
    }
   ],
   "source": [
    "df.median()"
   ]
  },
  {
   "cell_type": "markdown",
   "metadata": {
    "id": "DMltOlp_1o5G"
   },
   "source": [
    "### Exercise 1.3\n",
    "\n",
    "Handle the missing values in a way that you find suitable. Think about different ways. Discuss dis-/advantages of your approach. Argue your choices.\n"
   ]
  },
  {
   "cell_type": "code",
   "execution_count": 22,
   "metadata": {
    "id": "gxDCHrb31o5G"
   },
   "outputs": [
    {
     "name": "stdout",
     "output_type": "stream",
     "text": [
      "type              0\n",
      "length            0\n",
      "width             0\n",
      "height            0\n",
      "total_weight      0\n",
      "meat_weight       0\n",
      "drained_weight    0\n",
      "shell_weight      0\n",
      "num_rings         0\n",
      "dtype: int64\n",
      "type              1.000000\n",
      "length            0.535000\n",
      "width             0.420000\n",
      "height            0.140000\n",
      "total_weight      0.816250\n",
      "meat_weight       0.346000\n",
      "drained_weight    0.173500\n",
      "shell_weight      0.237250\n",
      "num_rings         9.921756\n",
      "dtype: float64\n"
     ]
    }
   ],
   "source": [
    "# count the number of NaN values in each column\n",
    "num_nans = df.isna().sum()\n",
    "print(num_nans)\n",
    "df.fillna(df.mean(), inplace=True)\n",
    "print(df.median())"
   ]
  },
  {
   "cell_type": "code",
   "execution_count": null,
   "metadata": {},
   "outputs": [],
   "source": [
    "##Imputation of missing values: In this approach, missing values are filled in with estimated or predicted values based on the values in other parts of the dataset. This can be done using various methods, such as mean imputation, median imputation, mode imputation, regression imputation, and multiple imputation.\n",
    "\n",
    "#Advantages: This method can preserve the sample size and the structure of the dataset, and can reduce bias and variability in the analysis. It can also improve the accuracy of the estimates and predictions.\n",
    "\n",
    "#Disadvantages: This method can introduce bias and distortion in the analysis if the imputed values are not accurate or representative of the true values. It can also reduce the variability of the data and underestimate the uncertainty in the analysis. The choice of imputation method can also affect the results and the interpretation of the analysis."
   ]
  },
  {
   "cell_type": "markdown",
   "metadata": {
    "id": "VpklBouL1o5H"
   },
   "source": [
    "### Exercise 1.4\n",
    "\n",
    "Perform Z-score normalization on every column (except the type of course!)"
   ]
  },
  {
   "cell_type": "code",
   "execution_count": 26,
   "metadata": {
    "id": "HbkY--hk1o5I"
   },
   "outputs": [
    {
     "data": {
      "text/html": [
       "<div>\n",
       "<style scoped>\n",
       "    .dataframe tbody tr th:only-of-type {\n",
       "        vertical-align: middle;\n",
       "    }\n",
       "\n",
       "    .dataframe tbody tr th {\n",
       "        vertical-align: top;\n",
       "    }\n",
       "\n",
       "    .dataframe thead th {\n",
       "        text-align: right;\n",
       "    }\n",
       "</style>\n",
       "<table border=\"1\" class=\"dataframe\">\n",
       "  <thead>\n",
       "    <tr style=\"text-align: right;\">\n",
       "      <th></th>\n",
       "      <th>type</th>\n",
       "      <th>length</th>\n",
       "      <th>width</th>\n",
       "      <th>height</th>\n",
       "      <th>total_weight</th>\n",
       "      <th>meat_weight</th>\n",
       "      <th>drained_weight</th>\n",
       "      <th>shell_weight</th>\n",
       "      <th>num_rings</th>\n",
       "    </tr>\n",
       "  </thead>\n",
       "  <tbody>\n",
       "    <tr>\n",
       "      <th>0</th>\n",
       "      <td>0.0</td>\n",
       "      <td>-1.466102e+00</td>\n",
       "      <td>-1.461574</td>\n",
       "      <td>-1.207208</td>\n",
       "      <td>-1.248230e+00</td>\n",
       "      <td>-1.184968</td>\n",
       "      <td>-1.221268</td>\n",
       "      <td>-1.227069</td>\n",
       "      <td>-5.570966e-16</td>\n",
       "    </tr>\n",
       "    <tr>\n",
       "      <th>1</th>\n",
       "      <td>1.0</td>\n",
       "      <td>5.324464e-02</td>\n",
       "      <td>0.123145</td>\n",
       "      <td>-0.112181</td>\n",
       "      <td>-3.141412e-01</td>\n",
       "      <td>-0.468776</td>\n",
       "      <td>-0.359187</td>\n",
       "      <td>-0.208177</td>\n",
       "      <td>-2.890789e-01</td>\n",
       "    </tr>\n",
       "    <tr>\n",
       "      <th>2</th>\n",
       "      <td>0.0</td>\n",
       "      <td>-7.064289e-01</td>\n",
       "      <td>-0.439175</td>\n",
       "      <td>-0.355520</td>\n",
       "      <td>-6.472271e-01</td>\n",
       "      <td>-0.655807</td>\n",
       "      <td>-0.614104</td>\n",
       "      <td>-0.608456</td>\n",
       "      <td>2.453863e-02</td>\n",
       "    </tr>\n",
       "    <tr>\n",
       "      <th>3</th>\n",
       "      <td>2.0</td>\n",
       "      <td>9.371190e-16</td>\n",
       "      <td>-1.563814</td>\n",
       "      <td>-1.450547</td>\n",
       "      <td>-1.290642e+00</td>\n",
       "      <td>-1.230586</td>\n",
       "      <td>-1.304696</td>\n",
       "      <td>-1.336237</td>\n",
       "      <td>-9.163138e-01</td>\n",
       "    </tr>\n",
       "    <tr>\n",
       "      <th>4</th>\n",
       "      <td>2.0</td>\n",
       "      <td>-8.330412e-01</td>\n",
       "      <td>-1.103735</td>\n",
       "      <td>-1.085538</td>\n",
       "      <td>-9.875540e-01</td>\n",
       "      <td>-0.995656</td>\n",
       "      <td>-0.952447</td>\n",
       "      <td>-0.863179</td>\n",
       "      <td>-6.026964e-01</td>\n",
       "    </tr>\n",
       "    <tr>\n",
       "      <th>...</th>\n",
       "      <td>...</td>\n",
       "      <td>...</td>\n",
       "      <td>...</td>\n",
       "      <td>...</td>\n",
       "      <td>...</td>\n",
       "      <td>...</td>\n",
       "      <td>...</td>\n",
       "      <td>...</td>\n",
       "      <td>...</td>\n",
       "    </tr>\n",
       "    <tr>\n",
       "      <th>4171</th>\n",
       "      <td>1.0</td>\n",
       "      <td>3.486732e-01</td>\n",
       "      <td>0.429864</td>\n",
       "      <td>0.617837</td>\n",
       "      <td>1.203188e-01</td>\n",
       "      <td>0.048981</td>\n",
       "      <td>0.544607</td>\n",
       "      <td>0.075657</td>\n",
       "      <td>3.381561e-01</td>\n",
       "    </tr>\n",
       "    <tr>\n",
       "      <th>4172</th>\n",
       "      <td>0.0</td>\n",
       "      <td>5.596937e-01</td>\n",
       "      <td>0.327624</td>\n",
       "      <td>-0.112181</td>\n",
       "      <td>2.837585e-01</td>\n",
       "      <td>0.363741</td>\n",
       "      <td>0.317500</td>\n",
       "      <td>0.159351</td>\n",
       "      <td>2.453863e-02</td>\n",
       "    </tr>\n",
       "    <tr>\n",
       "      <th>4173</th>\n",
       "      <td>0.0</td>\n",
       "      <td>6.441019e-01</td>\n",
       "      <td>0.685464</td>\n",
       "      <td>1.591194</td>\n",
       "      <td>7.182184e-01</td>\n",
       "      <td>0.758331</td>\n",
       "      <td>0.994187</td>\n",
       "      <td>0.505047</td>\n",
       "      <td>-2.890789e-01</td>\n",
       "    </tr>\n",
       "    <tr>\n",
       "      <th>4174</th>\n",
       "      <td>1.0</td>\n",
       "      <td>8.551223e-01</td>\n",
       "      <td>0.787704</td>\n",
       "      <td>0.252828</td>\n",
       "      <td>4.823474e-15</td>\n",
       "      <td>0.783420</td>\n",
       "      <td>0.748541</td>\n",
       "      <td>0.417713</td>\n",
       "      <td>2.453863e-02</td>\n",
       "    </tr>\n",
       "    <tr>\n",
       "      <th>4175</th>\n",
       "      <td>0.0</td>\n",
       "      <td>1.572592e+00</td>\n",
       "      <td>1.503384</td>\n",
       "      <td>1.347855</td>\n",
       "      <td>2.316410e+00</td>\n",
       "      <td>2.674259</td>\n",
       "      <td>1.819190</td>\n",
       "      <td>1.865996</td>\n",
       "      <td>6.517736e-01</td>\n",
       "    </tr>\n",
       "  </tbody>\n",
       "</table>\n",
       "<p>4176 rows × 9 columns</p>\n",
       "</div>"
      ],
      "text/plain": [
       "      type        length     width    height  total_weight  meat_weight  \\\n",
       "0      0.0 -1.466102e+00 -1.461574 -1.207208 -1.248230e+00    -1.184968   \n",
       "1      1.0  5.324464e-02  0.123145 -0.112181 -3.141412e-01    -0.468776   \n",
       "2      0.0 -7.064289e-01 -0.439175 -0.355520 -6.472271e-01    -0.655807   \n",
       "3      2.0  9.371190e-16 -1.563814 -1.450547 -1.290642e+00    -1.230586   \n",
       "4      2.0 -8.330412e-01 -1.103735 -1.085538 -9.875540e-01    -0.995656   \n",
       "...    ...           ...       ...       ...           ...          ...   \n",
       "4171   1.0  3.486732e-01  0.429864  0.617837  1.203188e-01     0.048981   \n",
       "4172   0.0  5.596937e-01  0.327624 -0.112181  2.837585e-01     0.363741   \n",
       "4173   0.0  6.441019e-01  0.685464  1.591194  7.182184e-01     0.758331   \n",
       "4174   1.0  8.551223e-01  0.787704  0.252828  4.823474e-15     0.783420   \n",
       "4175   0.0  1.572592e+00  1.503384  1.347855  2.316410e+00     2.674259   \n",
       "\n",
       "      drained_weight  shell_weight     num_rings  \n",
       "0          -1.221268     -1.227069 -5.570966e-16  \n",
       "1          -0.359187     -0.208177 -2.890789e-01  \n",
       "2          -0.614104     -0.608456  2.453863e-02  \n",
       "3          -1.304696     -1.336237 -9.163138e-01  \n",
       "4          -0.952447     -0.863179 -6.026964e-01  \n",
       "...              ...           ...           ...  \n",
       "4171        0.544607      0.075657  3.381561e-01  \n",
       "4172        0.317500      0.159351  2.453863e-02  \n",
       "4173        0.994187      0.505047 -2.890789e-01  \n",
       "4174        0.748541      0.417713  2.453863e-02  \n",
       "4175        1.819190      1.865996  6.517736e-01  \n",
       "\n",
       "[4176 rows x 9 columns]"
      ]
     },
     "execution_count": 26,
     "metadata": {},
     "output_type": "execute_result"
    }
   ],
   "source": [
    "from sklearn.preprocessing import StandardScaler\n",
    "\n",
    "scaler = StandardScaler()\n",
    "\n",
    "# get the column to exclude from normalization\n",
    "exclude_col = 'type'\n",
    "\n",
    "# separate the excluded column from the rest of the dataframe\n",
    "df_exclude = df[[exclude_col]]\n",
    "df_remainder = df.drop(exclude_col, axis=1)\n",
    "\n",
    "# apply Z-score normalization to the remainder of the dataframe\n",
    "df_remainder_normalized = pd.DataFrame(scaler.fit_transform(df_remainder), columns=df_remainder.columns)\n",
    "\n",
    "# merge the normalized dataframe with the excluded column\n",
    "df_normalized = pd.concat([df_exclude, df_remainder_normalized], axis=1)\n",
    "\n",
    "df_normalized"
   ]
  },
  {
   "cell_type": "markdown",
   "metadata": {
    "id": "krOpdi_i1o5J"
   },
   "source": [
    "## 2. Preprocessing text (Optional)\n",
    "\n",
    "One possible way to transform text documents into vectors of numeric attributes is to use the TF-IDF representation. We will experiment with this representation using the 20 Newsgroup data set. The data set contains postings on 20 different topics. The classification problem is to decide which of the topics a posting falls into. Here, we will only consider postings about medicine and space."
   ]
  },
  {
   "cell_type": "code",
   "execution_count": 27,
   "metadata": {
    "id": "TmhZ8_FC1o5J"
   },
   "outputs": [
    {
     "name": "stdout",
     "output_type": "stream",
     "text": [
      "The index of each category is: [(0, 'sci.med'), (1, 'sci.space')]\n"
     ]
    }
   ],
   "source": [
    "from sklearn.datasets import fetch_20newsgroups\n",
    "\n",
    "\n",
    "categories = ['sci.med', 'sci.space']\n",
    "raw_data = fetch_20newsgroups(subset='train', categories=categories, shuffle=True, random_state=42)\n",
    "print(f'The index of each category is: {[(i,target) for i,target in enumerate(raw_data.target_names)]}')"
   ]
  },
  {
   "cell_type": "markdown",
   "metadata": {
    "id": "3kWdpZz61o5K"
   },
   "source": [
    "Check out some of the postings, might find some funny ones!"
   ]
  },
  {
   "cell_type": "code",
   "execution_count": 28,
   "metadata": {
    "id": "CFZgvye31o5K"
   },
   "outputs": [
    {
     "name": "stdout",
     "output_type": "stream",
     "text": [
      "This is a sci.space email.\n",
      "\n",
      "There are 1187 emails.\n",
      "\n",
      "From: pyron@skndiv.dseg.ti.com (Dillon Pyron)\n",
      "Subject: Re: How many read sci.space?\n",
      "Lines: 11\n",
      "Nntp-Posting-Host: skndiv.dseg.ti.com\n",
      "Reply-To: pyron@skndiv.dseg.ti.com\n",
      "Organization: TI/DSEG VAX Support\n",
      "\n",
      "\n",
      "There are actually only two of us.  I do Henry, Fred, Tommy and Mary.  Oh yeah,\n",
      "this isn't my real name, I'm a bald headed space baby.\n",
      "--\n",
      "Dillon Pyron                      | The opinions expressed are those of the\n",
      "TI/DSEG Lewisville VAX Support    | sender unless otherwise stated.\n",
      "(214)462-3556 (when I'm here)     |\n",
      "(214)492-4656 (when I'm home)     |Texans: Vote NO on Robin Hood.  We need\n",
      "pyron@skndiv.dseg.ti.com          |solutions, not gestures.\n",
      "PADI DM-54909                     |\n",
      "\n",
      "\n"
     ]
    }
   ],
   "source": [
    "import numpy as np\n",
    "idx = np.random.randint(0, len(raw_data.data))\n",
    "print (f'This is a {raw_data.target_names[raw_data.target[idx]]} email.\\n')\n",
    "print (f'There are {len(raw_data.data)} emails.\\n')\n",
    "print(raw_data.data[idx])"
   ]
  },
  {
   "cell_type": "markdown",
   "metadata": {
    "id": "ytNRgBtD1o5L"
   },
   "source": [
    "Lets pick the first 10 postings from each category"
   ]
  },
  {
   "cell_type": "code",
   "execution_count": 29,
   "metadata": {
    "id": "7XjYd0ML1o5L"
   },
   "outputs": [],
   "source": [
    "idxs_med = np.flatnonzero(raw_data.target == 0)\n",
    "idxs_space = np.flatnonzero(raw_data.target == 1)\n",
    "idxs = np.concatenate([idxs_med[:10],idxs_space[:10]])\n",
    "data = np.array(raw_data.data)\n",
    "data = data[idxs]"
   ]
  },
  {
   "cell_type": "markdown",
   "metadata": {
    "id": "tY4YffVy1o5M"
   },
   "source": [
    "<a href=\"http://www.nltk.org/\">NLTK</a> is a toolkit for natural language processing. Take some time to install it and go through this <a href=\"http://www.slideshare.net/japerk/nltk-in-20-minutes\">short tutorial/presentation</a>. (or use e.g. Google colab where the package is prepared already)\n",
    "\n",
    "The downloaded package below is a tokenizer that divides a text into a list of sentences, by using an unsupervised algorithm to build a model for abbreviation words, collocations, and words that start sentences."
   ]
  },
  {
   "cell_type": "code",
   "execution_count": 30,
   "metadata": {
    "id": "GhpnijnB1o5M"
   },
   "outputs": [
    {
     "name": "stderr",
     "output_type": "stream",
     "text": [
      "[nltk_data] Downloading package punkt to\n",
      "[nltk_data]     /Users/tauqeerrumaney/nltk_data...\n",
      "[nltk_data]   Unzipping tokenizers/punkt.zip.\n"
     ]
    }
   ],
   "source": [
    "import nltk\n",
    "import itertools\n",
    "nltk.download('punkt')\n",
    "\n",
    "# Tokenize the sentences into words\n",
    "tokenized_sentences = [nltk.word_tokenize(sent) for sent in data]\n",
    "vocabulary_size = 1000\n",
    "unknown_token = 'unknown'"
   ]
  },
  {
   "cell_type": "code",
   "execution_count": 31,
   "metadata": {
    "id": "LvKCOBjx1o5M"
   },
   "outputs": [
    {
     "name": "stdout",
     "output_type": "stream",
     "text": [
      "Found 1636 unique words tokens.\n"
     ]
    }
   ],
   "source": [
    "# Count the word frequencies\n",
    "word_freq = nltk.FreqDist(itertools.chain(*tokenized_sentences))\n",
    "print (f\"Found {len(word_freq.items())} unique words tokens.\")"
   ]
  },
  {
   "cell_type": "code",
   "execution_count": 32,
   "metadata": {
    "id": "yw_h_8Vo1o5N"
   },
   "outputs": [
    {
     "name": "stdout",
     "output_type": "stream",
     "text": [
      "Using vocabulary size 1000.\n",
      "The least frequent word in our vocabulary is 'AN' and appeared 1 times.\n"
     ]
    }
   ],
   "source": [
    "# Get the most common words and build index_to_word and word_to_index vectors\n",
    "vocab = word_freq.most_common(vocabulary_size-1)\n",
    "index_to_word = [x[0] for x in vocab]\n",
    "index_to_word.append(unknown_token)\n",
    "word_to_index = dict([(w,i) for i,w in enumerate(index_to_word)])\n",
    " \n",
    "print (f\"Using vocabulary size {vocabulary_size}.\" )\n",
    "print (f\"The least frequent word in our vocabulary is '{vocab[-1][0]}' and appeared {vocab[-1][1]} times.\")"
   ]
  },
  {
   "cell_type": "markdown",
   "metadata": {
    "id": "0CxBYzBs1o5N"
   },
   "source": [
    "### Exercise 2.1\n",
    "\n",
    "Code your own TF-IDF representation function and use it on this dataset. (Don't use code from libraries. Build your own function with Numpy/Pandas). Use the formular TFIDF = TF * (IDF+1). The effect of adding “1” to the idf in the equation above is that terms with zero idf, i.e., terms that occur in all documents in a training set, will not be entirely ignored. The term frequency is the raw count of a term in a document. The inverse document frequency is the natural logarithm of the inverse fraction of the documents that contain the word."
   ]
  },
  {
   "cell_type": "code",
   "execution_count": null,
   "metadata": {
    "id": "LAQX0zw11o5N"
   },
   "outputs": [],
   "source": [
    "from sklearn.feature_extraction.text import CountVectorizer\n",
    "countvec = CountVectorizer()\n",
    "df = pd.DataFrame(countvec.fit_transform(data).toarray(), columns=countvec.get_feature_names_out())\n",
    "\n",
    "def tfidf(df):\n",
    "    \n",
    "    ##################\n",
    "    #INSERT CODE HERE#\n",
    "    ##################\n",
    "    return None\n",
    "    \n",
    "    \n",
    "rep = tfidf(df)\n",
    "\n",
    "# Check if your implementation is correct\n",
    "from sklearn.feature_extraction.text import TfidfVectorizer\n",
    "vectorizer = TfidfVectorizer(norm=None, smooth_idf=False, use_idf=True)\n",
    "X_train = pd.DataFrame(vectorizer.fit_transform(data).toarray(), columns=countvec.get_feature_names_out())\n",
    "answer=['No','Yes']\n",
    "epsilon = 0.0001\n",
    "if rep is None: \n",
    "  print (f'Is this implementation correct?\\nAnswer: {answer[0]}')\n",
    "if rep is not None:\n",
    "  print (f'Is this implementation correct?\\nAnswer: {answer[1*np.all((X_train - rep) < epsilon)]}')"
   ]
  },
  {
   "cell_type": "code",
   "execution_count": null,
   "metadata": {
    "id": "yvgshAez8XY2"
   },
   "outputs": [],
   "source": [
    "# an example of what to do with these similarities:\n",
    "\n",
    "\n",
    "# analysis with tf-idf\n",
    "from sklearn.metrics.pairwise import cosine_similarity\n",
    "\n",
    "similiarities = cosine_similarity(rep, rep) # measure of the similarity of the direction of two vectors"
   ]
  },
  {
   "cell_type": "code",
   "execution_count": null,
   "metadata": {
    "id": "39RjLr9J8b8f"
   },
   "outputs": [],
   "source": [
    "np.fill_diagonal(similiarities, 0)\n",
    "max_ind = np.unravel_index(similiarities.argmax(), similiarities.shape)\n",
    "similiarities[max_ind] # highest similarity of two documents"
   ]
  }
 ],
 "metadata": {
  "colab": {
   "collapsed_sections": [],
   "name": "Problem_Analysis_and_Data_Preprocessing.ipynb",
   "provenance": []
  },
  "kernelspec": {
   "display_name": "Python 3 (ipykernel)",
   "language": "python",
   "name": "python3"
  },
  "language_info": {
   "codemirror_mode": {
    "name": "ipython",
    "version": 3
   },
   "file_extension": ".py",
   "mimetype": "text/x-python",
   "name": "python",
   "nbconvert_exporter": "python",
   "pygments_lexer": "ipython3",
   "version": "3.9.7"
  }
 },
 "nbformat": 4,
 "nbformat_minor": 1
}
